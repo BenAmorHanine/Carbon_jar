{
 "cells": [
  {
   "cell_type": "markdown",
   "id": "e25ea23b",
   "metadata": {},
   "source": [
    "1. Create a DAG file"
   ]
  }
 ],
 "metadata": {
  "language_info": {
   "name": "python"
  }
 },
 "nbformat": 4,
 "nbformat_minor": 5
}
