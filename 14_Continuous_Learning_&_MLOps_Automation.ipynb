{
 "cells": [
  {
   "cell_type": "markdown",
   "id": "e25ea23b",
   "metadata": {},
   "source": [
    "the dag script created is the file we need to place in  our airflow list ( after customizing it)"
   ]
  }
 ],
 "metadata": {
  "language_info": {
   "name": "python"
  }
 },
 "nbformat": 4,
 "nbformat_minor": 5
}
