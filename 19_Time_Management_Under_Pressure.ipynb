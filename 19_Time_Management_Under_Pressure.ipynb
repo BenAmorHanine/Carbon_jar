{
 "cells": [
  {
   "cell_type": "markdown",
   "id": "854a3179",
   "metadata": {},
   "source": [
    "Scenario: You have 4 hours for an AI model tuning challenge and get stuck.\n",
    "\n",
    "Tasks: Describe your approach: How do you manage time, prioritize (which hyperparameter to tune first?), know when an approach isn't working, and save time for review/reporting? Share a real-world AI/ML example"
   ]
  },
  {
   "cell_type": "markdown",
   "id": "9da1288b",
   "metadata": {},
   "source": [
    "first, i load and process the dataset (1hour max)\n",
    "later, i start with tuning the most critical and impactful parameters like the lr, batch sizes, dropout, the model depth and architecture (layers/ units) if interesting (should test and compare simultaneously).(around 90min)\n",
    "Finally, if there is still enough time i can try tuning other specific parameters like class weights...\n",
    "We should leave time for validating and reporting. (around 30min)\n",
    "\n",
    "* know when approach isnt working?\n",
    "  for example, when tmetrics stagnate or degrade after min of training\n",
    "  when we remark a dropout, we better earlystop or introduce a drop regularisation..\n"
   ]
  },
  {
   "cell_type": "markdown",
   "id": "b5eb9a7a",
   "metadata": {},
   "source": [
    "*** Real-World example**"
   ]
  },
  {
   "cell_type": "markdown",
   "id": "742a07b7",
   "metadata": {},
   "source": []
  }
 ],
 "metadata": {
  "language_info": {
   "name": "python"
  }
 },
 "nbformat": 4,
 "nbformat_minor": 5
}
