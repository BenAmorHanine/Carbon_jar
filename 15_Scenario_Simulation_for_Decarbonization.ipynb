{
 "cells": [
  {
   "cell_type": "markdown",
   "id": "fea4f757",
   "metadata": {},
   "source": [
    "Scenario: Clients want to simulate \"what-if\" decarbonization scenarios.\n",
    "\n",
    "Tasks: Implement Monte Carlo Simulation. The Python script simulates a single scenario. Enhance it to run a Monte Carlo simulation (e.g., 1000 runs) where cost_reduction and emission_cut have a defined distribution (e.g., normal distribution using numpy.random.normal) instead of being fixed. Collect and plot a histogram of the final net_benefit. Code Sample (Python - Needs Monte Carlo!):"
   ]
  },
  {
   "cell_type": "code",
   "execution_count": null,
   "id": "a2fe4fac",
   "metadata": {
    "vscode": {
     "languageId": "plaintext"
    }
   },
   "outputs": [],
   "source": [
    "import numpy as np; import matplotlib.pyplot as plt\n",
    "\n",
    "def simulate_scenario(investment):\n",
    "    # PROBLEM: Deterministic, no uncertainty.\n",
    "    cost_reduction_factor = 0.1\n",
    "    emission_cut_factor = 0.05\n",
    "    emission_value = 50 # Value per ton cut\n",
    "\n",
    "    cost_reduction = investment * cost_reduction_factor\n",
    "    emission_cut = investment * emission_cut_factor\n",
    "    net_benefit = (emission_cut * emission_value) - (investment - cost_reduction)\n",
    "    return net_benefit\n",
    "\n",
    "# investment = 100000\n",
    "# print(f\"Single Run Benefit: {simulate_scenario(investment)}\")\n",
    "# TASK: Run this 1000 times, varying factors with np.random.normal. Plot a histogram.\n",
    "# Our Take: Decisions need uncertainty analysis. Add Monte Carlo to this simulation."
   ]
  }
 ],
 "metadata": {
  "language_info": {
   "name": "python"
  }
 },
 "nbformat": 4,
 "nbformat_minor": 5
}
